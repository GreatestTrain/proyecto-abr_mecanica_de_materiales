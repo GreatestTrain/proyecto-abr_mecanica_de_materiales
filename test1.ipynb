{
 "cells": [
  {
   "cell_type": "code",
   "execution_count": 1,
   "metadata": {},
   "outputs": [],
   "source": [
    "# %load_ext autoreload\n",
    "# %autoreload 2\n",
    "# %matplotlib widget"
   ]
  },
  {
   "cell_type": "markdown",
   "metadata": {},
   "source": [
    "### **Librerias necesarias**"
   ]
  },
  {
   "cell_type": "code",
   "execution_count": 2,
   "metadata": {},
   "outputs": [],
   "source": [
    "from sympy import sympify"
   ]
  },
  {
   "cell_type": "markdown",
   "metadata": {},
   "source": [
    "#### **Aplicación de elaboración propia**"
   ]
  },
  {
   "cell_type": "code",
   "execution_count": 3,
   "metadata": {},
   "outputs": [],
   "source": [
    "from mm.forces import *\n",
    "from mm.structures import *\n",
    "from mm.sections import *\n",
    "# from mm import *"
   ]
  },
  {
   "cell_type": "markdown",
   "metadata": {},
   "source": [
    "### **Orden**\n",
    "1. Momento\n",
    "2. Punto\n",
    "3. Distribuido"
   ]
  },
  {
   "cell_type": "markdown",
   "metadata": {},
   "source": [
    "#### **Creación de la sección**"
   ]
  },
  {
   "cell_type": "code",
   "execution_count": 4,
   "metadata": {},
   "outputs": [
    {
     "name": "stdout",
     "output_type": "stream",
     "text": [
      "id: 0x201d7104d30\n",
      "== Section ==\n",
      "- IShaped -\n",
      "Total Area:\t0.0227\n",
      "Inertia:\t0.0004740379477239353\n",
      "max c:\t\t0.2162907488986784\n",
      "centroid:\t0.2162907488986784\n"
     ]
    }
   ],
   "source": [
    "caracteristicas_seccion = {\n",
    "    'top_width': 0.250,\n",
    "    'top_thickness': 0.038,\n",
    "    'bottom_width': 0.150,\n",
    "    'bottom_thickness': 0.038,\n",
    "    'web_height': 0.300,\n",
    "    'web_thickness': 0.025,\n",
    "}\n",
    "seccion = IShapedSection(**caracteristicas_seccion)\n",
    "print(seccion)"
   ]
  },
  {
   "cell_type": "code",
   "execution_count": 5,
   "metadata": {},
   "outputs": [
    {
     "name": "stdout",
     "output_type": "stream",
     "text": [
      "id: 0x201d4e16e90\n",
      "== Force ==\n",
      " - Moment -\n",
      "load => 0\n",
      "moment => 18\n"
     ]
    }
   ],
   "source": [
    "carga1 = Moment(18)\n",
    "carga2 = PointLoad(sympify(151)/3)\n",
    "carga3 = PointLoad(sympify(-25))\n",
    "carga4 = DistributedLoad(sympify(-40))\n",
    "carga5 = PointLoad(sympify(211)/3)\n",
    "carga6 = Moment(-27)\n",
    "print(carga1)"
   ]
  },
  {
   "cell_type": "code",
   "execution_count": 6,
   "metadata": {},
   "outputs": [],
   "source": [
    "viga = Beam(section=seccion)\n",
    "viga.convention = 1"
   ]
  },
  {
   "cell_type": "code",
   "execution_count": 7,
   "metadata": {},
   "outputs": [
    {
     "name": "stdout",
     "output_type": "stream",
     "text": [
      "id: 0x201d70a3bb0\n",
      "== Structure ==\n",
      "- Beam -\n",
      "nº of loads: 6\n",
      "nº of moments: 8\n"
     ]
    }
   ],
   "source": [
    "viga.addForce(carga1, 0)\n",
    "viga.addForce(carga2, 0)\n",
    "viga.addForce(carga3, 0.6)\n",
    "viga.addForce(carga4, (1.2,3.6))\n",
    "viga.addForce(carga5, 3.6)\n",
    "viga.addForce(carga6, 3.6)\n",
    "print(viga)"
   ]
  },
  {
   "cell_type": "markdown",
   "metadata": {},
   "source": [
    "## _**Ploteo**_"
   ]
  },
  {
   "cell_type": "code",
   "execution_count": 8,
   "metadata": {},
   "outputs": [
    {
     "data": {
      "text/latex": [
       "$\\displaystyle \\begin{cases} - \\frac{151}{3} & \\text{for}\\: x \\geq 0 \\wedge x < 0.6 \\\\- \\frac{76}{3} & \\text{for}\\: x \\geq 0.6 \\wedge x < 1.2 \\\\40 x - 73.3333333333333 & \\text{for}\\: x \\geq 1.2 \\wedge x \\leq 3.6 \\end{cases}$"
      ],
      "text/plain": [
       "Piecewise((-151/3, (x < 0.6) & (x >= 0)), (-76/3, (x >= 0.6) & (x < 1.2)), (40*x - 73.3333333333333, (x >= 1.2) & (x <= 3.6)))"
      ]
     },
     "execution_count": 8,
     "metadata": {},
     "output_type": "execute_result"
    }
   ],
   "source": [
    "viga.sfd"
   ]
  },
  {
   "cell_type": "code",
   "execution_count": 9,
   "metadata": {},
   "outputs": [
    {
     "data": {
      "text/latex": [
       "$\\displaystyle \\begin{cases} \\frac{151 x}{3} - 18 & \\text{for}\\: x \\geq 0 \\wedge x < 0.6 \\\\25.3333333333333 x - 3.0 & \\text{for}\\: x \\geq 0.6 \\wedge x < 1.2 \\\\- 20.0 x^{2} + 73.3333333333333 x - 31.8 & \\text{for}\\: x \\geq 1.2 \\wedge x \\leq 3.6 \\end{cases}$"
      ],
      "text/plain": [
       "Piecewise((151*x/3 - 18, (x < 0.6) & (x >= 0)), (25.3333333333333*x - 3.0, (x >= 0.6) & (x < 1.2)), (-20.0*x**2 + 73.3333333333333*x - 31.8, (x >= 1.2) & (x <= 3.6)))"
      ]
     },
     "execution_count": 9,
     "metadata": {},
     "output_type": "execute_result"
    }
   ],
   "source": [
    "viga.bmd"
   ]
  },
  {
   "cell_type": "code",
   "execution_count": 10,
   "metadata": {},
   "outputs": [],
   "source": [
    "from mm.plotting import plot_beam\n",
    "import matplotlib.pyplot as plt"
   ]
  },
  {
   "cell_type": "code",
   "execution_count": 11,
   "metadata": {},
   "outputs": [
    {
     "data": {
      "image/png": "[encoded data removed]",
      "text/plain": [
       "<Figure size 864x288 with 2 Axes>"
      ]
     },
     "metadata": {
      "needs_background": "light"
     },
     "output_type": "display_data"
    }
   ],
   "source": [
    "plot_beam(viga, res=1000, division_ticks=8)"
   ]
  },
  {
   "cell_type": "code",
   "execution_count": 12,
   "metadata": {},
   "outputs": [],
   "source": [
    "plt.close(\"all\")"
   ]
  },
  {
   "cell_type": "markdown",
   "metadata": {},
   "source": [
    "### **Esfuerzos máximos y mínimos**"
   ]
  },
  {
   "cell_type": "code",
   "execution_count": 13,
   "metadata": {},
   "outputs": [
    {
     "data": {
      "text/latex": [
       "$\\sigma_{\\text{max}} = 16162.206 \\quad\\longrightarrow x  = 1.833$\n",
       "\n",
       "$\\sigma_{\\text{min}} = -12319.373 \\quad\\longrightarrow x  = 3.600$"
      ],
      "text/plain": [
       "<IPython.core.display.Latex object>"
      ]
     },
     "execution_count": 13,
     "metadata": {},
     "output_type": "execute_result"
    }
   ],
   "source": [
    "viga.sigma_report()"
   ]
  }
 ],
 "metadata": {
  "kernelspec": {
   "display_name": "Python 3.10.4 ('ds')",
   "language": "python",
   "name": "python3"
  },
  "language_info": {
   "codemirror_mode": {
    "name": "ipython",
    "version": 3
   },
   "file_extension": ".py",
   "mimetype": "text/x-python",
   "name": "python",
   "nbconvert_exporter": "python",
   "pygments_lexer": "ipython3",
   "version": "3.10.4"
  },
  "orig_nbformat": 4,
  "vscode": {
   "interpreter": {
    "hash": "71dda1f36ff01dd8280b241c9bbd2200903794e3fcef25f2dfa7d2687b44f136"
   }
  }
 },
 "nbformat": 4,
 "nbformat_minor": 2
}
